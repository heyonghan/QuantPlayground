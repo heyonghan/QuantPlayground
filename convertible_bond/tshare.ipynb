{
 "cells": [
  {
   "cell_type": "code",
   "execution_count": 1,
   "metadata": {
    "collapsed": true,
    "pycharm": {
     "name": "#%%\n"
    }
   },
   "outputs": [],
   "source": [
    "import tushare as ts\n",
    "import pandas as pd\n",
    "import time\n",
    "import warnings\n",
    "warnings.filterwarnings(\"ignore\")"
   ]
  },
  {
   "cell_type": "code",
   "execution_count": null,
   "outputs": [],
   "source": [
    "# print(tushare.__version__)\n",
    "ts.set_token(\"token\")\n",
    "pro = ts.pro_api()"
   ],
   "metadata": {
    "collapsed": false,
    "pycharm": {
     "name": "#%%\n"
    }
   }
  },
  {
   "cell_type": "code",
   "execution_count": 8,
   "outputs": [],
   "source": [
    "# 获取可转债基本数据\n",
    "df = pro.cb_basic(fields=\"ts_code,bond_short_name,stk_code,stk_short_name,list_date,delist_date,first_conv_price,conv_price\")"
   ],
   "metadata": {
    "collapsed": false,
    "pycharm": {
     "name": "#%%\n"
    }
   }
  },
  {
   "cell_type": "code",
   "execution_count": 9,
   "outputs": [
    {
     "data": {
      "text/plain": "       ts_code bond_short_name   stk_code stk_short_name   list_date  \\\n0    125002.SZ            万科转债  000002.SZ            万科Ａ  2002-06-28   \n1    125009.SZ            宝安转券  000009.SZ           中国宝安  1993-02-10   \n2    125069.SZ            侨城转债  000069.SZ           华侨城Ａ  2004-01-16   \n3    125301.SZ            丝绸转债  000301.SZ           东方盛虹  1998-09-15   \n4    126301.SZ            丝绸转2  000301.SZ           东方盛虹  2002-09-24   \n..         ...             ...        ...            ...         ...   \n795  118018.SH            瑞科转债  688323.SH            瑞华泰  2022-09-14   \n796  127071.SZ            天箭转债  003009.SZ           中天火箭        None   \n797  123157.SZ            科蓝转债  300663.SZ           科蓝软件        None   \n798  113656.SH            嘉诚转债  603535.SH           嘉诚国际        None   \n799  110088.SH           淮22转债  600985.SH           淮北矿业        None   \n\n    delist_date  first_conv_price  conv_price  \n0    2004-04-30             12.10       5.850  \n1    1996-01-01             25.00      19.392  \n2    2005-04-29              6.15       6.150  \n3    2003-08-28              4.10       4.100  \n4    2006-09-18              8.78       3.000  \n..          ...               ...         ...  \n795        None             30.98      30.980  \n796        None             53.11      53.110  \n797        None             16.02      16.020  \n798        None             22.98      22.980  \n799        None             15.17         NaN  \n\n[800 rows x 8 columns]",
      "text/html": "<div>\n<style scoped>\n    .dataframe tbody tr th:only-of-type {\n        vertical-align: middle;\n    }\n\n    .dataframe tbody tr th {\n        vertical-align: top;\n    }\n\n    .dataframe thead th {\n        text-align: right;\n    }\n</style>\n<table border=\"1\" class=\"dataframe\">\n  <thead>\n    <tr style=\"text-align: right;\">\n      <th></th>\n      <th>ts_code</th>\n      <th>bond_short_name</th>\n      <th>stk_code</th>\n      <th>stk_short_name</th>\n      <th>list_date</th>\n      <th>delist_date</th>\n      <th>first_conv_price</th>\n      <th>conv_price</th>\n    </tr>\n  </thead>\n  <tbody>\n    <tr>\n      <th>0</th>\n      <td>125002.SZ</td>\n      <td>万科转债</td>\n      <td>000002.SZ</td>\n      <td>万科Ａ</td>\n      <td>2002-06-28</td>\n      <td>2004-04-30</td>\n      <td>12.10</td>\n      <td>5.850</td>\n    </tr>\n    <tr>\n      <th>1</th>\n      <td>125009.SZ</td>\n      <td>宝安转券</td>\n      <td>000009.SZ</td>\n      <td>中国宝安</td>\n      <td>1993-02-10</td>\n      <td>1996-01-01</td>\n      <td>25.00</td>\n      <td>19.392</td>\n    </tr>\n    <tr>\n      <th>2</th>\n      <td>125069.SZ</td>\n      <td>侨城转债</td>\n      <td>000069.SZ</td>\n      <td>华侨城Ａ</td>\n      <td>2004-01-16</td>\n      <td>2005-04-29</td>\n      <td>6.15</td>\n      <td>6.150</td>\n    </tr>\n    <tr>\n      <th>3</th>\n      <td>125301.SZ</td>\n      <td>丝绸转债</td>\n      <td>000301.SZ</td>\n      <td>东方盛虹</td>\n      <td>1998-09-15</td>\n      <td>2003-08-28</td>\n      <td>4.10</td>\n      <td>4.100</td>\n    </tr>\n    <tr>\n      <th>4</th>\n      <td>126301.SZ</td>\n      <td>丝绸转2</td>\n      <td>000301.SZ</td>\n      <td>东方盛虹</td>\n      <td>2002-09-24</td>\n      <td>2006-09-18</td>\n      <td>8.78</td>\n      <td>3.000</td>\n    </tr>\n    <tr>\n      <th>...</th>\n      <td>...</td>\n      <td>...</td>\n      <td>...</td>\n      <td>...</td>\n      <td>...</td>\n      <td>...</td>\n      <td>...</td>\n      <td>...</td>\n    </tr>\n    <tr>\n      <th>795</th>\n      <td>118018.SH</td>\n      <td>瑞科转债</td>\n      <td>688323.SH</td>\n      <td>瑞华泰</td>\n      <td>2022-09-14</td>\n      <td>None</td>\n      <td>30.98</td>\n      <td>30.980</td>\n    </tr>\n    <tr>\n      <th>796</th>\n      <td>127071.SZ</td>\n      <td>天箭转债</td>\n      <td>003009.SZ</td>\n      <td>中天火箭</td>\n      <td>None</td>\n      <td>None</td>\n      <td>53.11</td>\n      <td>53.110</td>\n    </tr>\n    <tr>\n      <th>797</th>\n      <td>123157.SZ</td>\n      <td>科蓝转债</td>\n      <td>300663.SZ</td>\n      <td>科蓝软件</td>\n      <td>None</td>\n      <td>None</td>\n      <td>16.02</td>\n      <td>16.020</td>\n    </tr>\n    <tr>\n      <th>798</th>\n      <td>113656.SH</td>\n      <td>嘉诚转债</td>\n      <td>603535.SH</td>\n      <td>嘉诚国际</td>\n      <td>None</td>\n      <td>None</td>\n      <td>22.98</td>\n      <td>22.980</td>\n    </tr>\n    <tr>\n      <th>799</th>\n      <td>110088.SH</td>\n      <td>淮22转债</td>\n      <td>600985.SH</td>\n      <td>淮北矿业</td>\n      <td>None</td>\n      <td>None</td>\n      <td>15.17</td>\n      <td>NaN</td>\n    </tr>\n  </tbody>\n</table>\n<p>800 rows × 8 columns</p>\n</div>"
     },
     "execution_count": 9,
     "metadata": {},
     "output_type": "execute_result"
    }
   ],
   "source": [
    "df"
   ],
   "metadata": {
    "collapsed": false,
    "pycharm": {
     "name": "#%%\n"
    }
   }
  },
  {
   "cell_type": "code",
   "execution_count": 29,
   "outputs": [],
   "source": [
    "# 获取2016-2018年上市的可转债基本信息\n",
    "bond_2016_2018 = df[(df['list_date'] > \"2016-01-01\") & (df['list_date'] < \"2018-12-30\") ]"
   ],
   "metadata": {
    "collapsed": false,
    "pycharm": {
     "name": "#%%\n"
    }
   }
  },
  {
   "cell_type": "code",
   "execution_count": 30,
   "outputs": [
    {
     "data": {
      "text/plain": "       ts_code bond_short_name   stk_code stk_short_name   list_date  \\\n113  123001.SZ            蓝标转债  300058.SZ           蓝色光标  2016-01-08   \n114  110032.SH            三一转债  600031.SH           三一重工  2016-01-18   \n115  110033.SH            国贸转债  600755.SH           厦门国贸  2016-01-19   \n116  110034.SH            九州转债  600998.SH            九州通  2016-01-29   \n117  113009.SH            广汽转债  601238.SH           广汽集团  2016-02-04   \n..         ...             ...        ...            ...         ...   \n227  113522.SH            旭升转债  603305.SH           旭升股份  2018-12-11   \n228  128049.SZ            华源转债  002787.SZ           华源控股  2018-12-20   \n229  110048.SH            福能转债  600483.SH           福能股份  2018-12-28   \n230  113523.SH            伟明转债  603568.SH           伟明环保  2018-12-26   \n231  128050.SZ            钧达转债  002865.SZ           钧达股份  2018-12-27   \n\n    delist_date  first_conv_price  conv_price  \n113  2019-10-24             15.30        4.28  \n114  2019-03-26              7.50        7.25  \n115  2021-11-05              9.03        6.72  \n116  2022-01-17             18.78       17.83  \n117  2022-01-24             21.99       13.92  \n..          ...               ...         ...  \n227  2020-02-28             29.86       29.60  \n228        None              7.58        7.37  \n229        None              8.69        7.64  \n230  2020-02-06             23.92       17.47  \n231  2022-02-14             21.74       14.81  \n\n[119 rows x 8 columns]",
      "text/html": "<div>\n<style scoped>\n    .dataframe tbody tr th:only-of-type {\n        vertical-align: middle;\n    }\n\n    .dataframe tbody tr th {\n        vertical-align: top;\n    }\n\n    .dataframe thead th {\n        text-align: right;\n    }\n</style>\n<table border=\"1\" class=\"dataframe\">\n  <thead>\n    <tr style=\"text-align: right;\">\n      <th></th>\n      <th>ts_code</th>\n      <th>bond_short_name</th>\n      <th>stk_code</th>\n      <th>stk_short_name</th>\n      <th>list_date</th>\n      <th>delist_date</th>\n      <th>first_conv_price</th>\n      <th>conv_price</th>\n    </tr>\n  </thead>\n  <tbody>\n    <tr>\n      <th>113</th>\n      <td>123001.SZ</td>\n      <td>蓝标转债</td>\n      <td>300058.SZ</td>\n      <td>蓝色光标</td>\n      <td>2016-01-08</td>\n      <td>2019-10-24</td>\n      <td>15.30</td>\n      <td>4.28</td>\n    </tr>\n    <tr>\n      <th>114</th>\n      <td>110032.SH</td>\n      <td>三一转债</td>\n      <td>600031.SH</td>\n      <td>三一重工</td>\n      <td>2016-01-18</td>\n      <td>2019-03-26</td>\n      <td>7.50</td>\n      <td>7.25</td>\n    </tr>\n    <tr>\n      <th>115</th>\n      <td>110033.SH</td>\n      <td>国贸转债</td>\n      <td>600755.SH</td>\n      <td>厦门国贸</td>\n      <td>2016-01-19</td>\n      <td>2021-11-05</td>\n      <td>9.03</td>\n      <td>6.72</td>\n    </tr>\n    <tr>\n      <th>116</th>\n      <td>110034.SH</td>\n      <td>九州转债</td>\n      <td>600998.SH</td>\n      <td>九州通</td>\n      <td>2016-01-29</td>\n      <td>2022-01-17</td>\n      <td>18.78</td>\n      <td>17.83</td>\n    </tr>\n    <tr>\n      <th>117</th>\n      <td>113009.SH</td>\n      <td>广汽转债</td>\n      <td>601238.SH</td>\n      <td>广汽集团</td>\n      <td>2016-02-04</td>\n      <td>2022-01-24</td>\n      <td>21.99</td>\n      <td>13.92</td>\n    </tr>\n    <tr>\n      <th>...</th>\n      <td>...</td>\n      <td>...</td>\n      <td>...</td>\n      <td>...</td>\n      <td>...</td>\n      <td>...</td>\n      <td>...</td>\n      <td>...</td>\n    </tr>\n    <tr>\n      <th>227</th>\n      <td>113522.SH</td>\n      <td>旭升转债</td>\n      <td>603305.SH</td>\n      <td>旭升股份</td>\n      <td>2018-12-11</td>\n      <td>2020-02-28</td>\n      <td>29.86</td>\n      <td>29.60</td>\n    </tr>\n    <tr>\n      <th>228</th>\n      <td>128049.SZ</td>\n      <td>华源转债</td>\n      <td>002787.SZ</td>\n      <td>华源控股</td>\n      <td>2018-12-20</td>\n      <td>None</td>\n      <td>7.58</td>\n      <td>7.37</td>\n    </tr>\n    <tr>\n      <th>229</th>\n      <td>110048.SH</td>\n      <td>福能转债</td>\n      <td>600483.SH</td>\n      <td>福能股份</td>\n      <td>2018-12-28</td>\n      <td>None</td>\n      <td>8.69</td>\n      <td>7.64</td>\n    </tr>\n    <tr>\n      <th>230</th>\n      <td>113523.SH</td>\n      <td>伟明转债</td>\n      <td>603568.SH</td>\n      <td>伟明环保</td>\n      <td>2018-12-26</td>\n      <td>2020-02-06</td>\n      <td>23.92</td>\n      <td>17.47</td>\n    </tr>\n    <tr>\n      <th>231</th>\n      <td>128050.SZ</td>\n      <td>钧达转债</td>\n      <td>002865.SZ</td>\n      <td>钧达股份</td>\n      <td>2018-12-27</td>\n      <td>2022-02-14</td>\n      <td>21.74</td>\n      <td>14.81</td>\n    </tr>\n  </tbody>\n</table>\n<p>119 rows × 8 columns</p>\n</div>"
     },
     "execution_count": 30,
     "metadata": {},
     "output_type": "execute_result"
    }
   ],
   "source": [
    "bond_2016_2018"
   ],
   "metadata": {
    "collapsed": false,
    "pycharm": {
     "name": "#%%\n"
    }
   }
  },
  {
   "cell_type": "code",
   "execution_count": 31,
   "outputs": [],
   "source": [
    "bond_detail = pd.DataFrame()"
   ],
   "metadata": {
    "collapsed": false,
    "pycharm": {
     "name": "#%%\n"
    }
   }
  },
  {
   "cell_type": "code",
   "execution_count": 52,
   "outputs": [
    {
     "name": "stderr",
     "output_type": "stream",
     "text": [
      "/var/folders/84/yp82d91d5jvdwmx6kd1td9640000gn/T/ipykernel_3793/3957324227.py:6: FutureWarning: The frame.append method is deprecated and will be removed from pandas in a future version. Use pandas.concat instead.\n",
      "  bond_detail = bond_detail.append(pro.cb_daily(ts_code=ts_code), ignore_index=True)\n",
      "/var/folders/84/yp82d91d5jvdwmx6kd1td9640000gn/T/ipykernel_3793/3957324227.py:6: FutureWarning: The frame.append method is deprecated and will be removed from pandas in a future version. Use pandas.concat instead.\n",
      "  bond_detail = bond_detail.append(pro.cb_daily(ts_code=ts_code), ignore_index=True)\n",
      "/var/folders/84/yp82d91d5jvdwmx6kd1td9640000gn/T/ipykernel_3793/3957324227.py:6: FutureWarning: The frame.append method is deprecated and will be removed from pandas in a future version. Use pandas.concat instead.\n",
      "  bond_detail = bond_detail.append(pro.cb_daily(ts_code=ts_code), ignore_index=True)\n",
      "/var/folders/84/yp82d91d5jvdwmx6kd1td9640000gn/T/ipykernel_3793/3957324227.py:6: FutureWarning: The frame.append method is deprecated and will be removed from pandas in a future version. Use pandas.concat instead.\n",
      "  bond_detail = bond_detail.append(pro.cb_daily(ts_code=ts_code), ignore_index=True)\n",
      "/var/folders/84/yp82d91d5jvdwmx6kd1td9640000gn/T/ipykernel_3793/3957324227.py:6: FutureWarning: The frame.append method is deprecated and will be removed from pandas in a future version. Use pandas.concat instead.\n",
      "  bond_detail = bond_detail.append(pro.cb_daily(ts_code=ts_code), ignore_index=True)\n",
      "/var/folders/84/yp82d91d5jvdwmx6kd1td9640000gn/T/ipykernel_3793/3957324227.py:6: FutureWarning: The frame.append method is deprecated and will be removed from pandas in a future version. Use pandas.concat instead.\n",
      "  bond_detail = bond_detail.append(pro.cb_daily(ts_code=ts_code), ignore_index=True)\n",
      "/var/folders/84/yp82d91d5jvdwmx6kd1td9640000gn/T/ipykernel_3793/3957324227.py:6: FutureWarning: The frame.append method is deprecated and will be removed from pandas in a future version. Use pandas.concat instead.\n",
      "  bond_detail = bond_detail.append(pro.cb_daily(ts_code=ts_code), ignore_index=True)\n",
      "/var/folders/84/yp82d91d5jvdwmx6kd1td9640000gn/T/ipykernel_3793/3957324227.py:6: FutureWarning: The frame.append method is deprecated and will be removed from pandas in a future version. Use pandas.concat instead.\n",
      "  bond_detail = bond_detail.append(pro.cb_daily(ts_code=ts_code), ignore_index=True)\n",
      "/var/folders/84/yp82d91d5jvdwmx6kd1td9640000gn/T/ipykernel_3793/3957324227.py:6: FutureWarning: The frame.append method is deprecated and will be removed from pandas in a future version. Use pandas.concat instead.\n",
      "  bond_detail = bond_detail.append(pro.cb_daily(ts_code=ts_code), ignore_index=True)\n",
      "/var/folders/84/yp82d91d5jvdwmx6kd1td9640000gn/T/ipykernel_3793/3957324227.py:6: FutureWarning: The frame.append method is deprecated and will be removed from pandas in a future version. Use pandas.concat instead.\n",
      "  bond_detail = bond_detail.append(pro.cb_daily(ts_code=ts_code), ignore_index=True)\n",
      "/var/folders/84/yp82d91d5jvdwmx6kd1td9640000gn/T/ipykernel_3793/3957324227.py:6: FutureWarning: The frame.append method is deprecated and will be removed from pandas in a future version. Use pandas.concat instead.\n",
      "  bond_detail = bond_detail.append(pro.cb_daily(ts_code=ts_code), ignore_index=True)\n",
      "/var/folders/84/yp82d91d5jvdwmx6kd1td9640000gn/T/ipykernel_3793/3957324227.py:6: FutureWarning: The frame.append method is deprecated and will be removed from pandas in a future version. Use pandas.concat instead.\n",
      "  bond_detail = bond_detail.append(pro.cb_daily(ts_code=ts_code), ignore_index=True)\n",
      "/var/folders/84/yp82d91d5jvdwmx6kd1td9640000gn/T/ipykernel_3793/3957324227.py:6: FutureWarning: The frame.append method is deprecated and will be removed from pandas in a future version. Use pandas.concat instead.\n",
      "  bond_detail = bond_detail.append(pro.cb_daily(ts_code=ts_code), ignore_index=True)\n",
      "/var/folders/84/yp82d91d5jvdwmx6kd1td9640000gn/T/ipykernel_3793/3957324227.py:6: FutureWarning: The frame.append method is deprecated and will be removed from pandas in a future version. Use pandas.concat instead.\n",
      "  bond_detail = bond_detail.append(pro.cb_daily(ts_code=ts_code), ignore_index=True)\n",
      "/var/folders/84/yp82d91d5jvdwmx6kd1td9640000gn/T/ipykernel_3793/3957324227.py:6: FutureWarning: The frame.append method is deprecated and will be removed from pandas in a future version. Use pandas.concat instead.\n",
      "  bond_detail = bond_detail.append(pro.cb_daily(ts_code=ts_code), ignore_index=True)\n",
      "/var/folders/84/yp82d91d5jvdwmx6kd1td9640000gn/T/ipykernel_3793/3957324227.py:6: FutureWarning: The frame.append method is deprecated and will be removed from pandas in a future version. Use pandas.concat instead.\n",
      "  bond_detail = bond_detail.append(pro.cb_daily(ts_code=ts_code), ignore_index=True)\n",
      "/var/folders/84/yp82d91d5jvdwmx6kd1td9640000gn/T/ipykernel_3793/3957324227.py:6: FutureWarning: The frame.append method is deprecated and will be removed from pandas in a future version. Use pandas.concat instead.\n",
      "  bond_detail = bond_detail.append(pro.cb_daily(ts_code=ts_code), ignore_index=True)\n",
      "/var/folders/84/yp82d91d5jvdwmx6kd1td9640000gn/T/ipykernel_3793/3957324227.py:6: FutureWarning: The frame.append method is deprecated and will be removed from pandas in a future version. Use pandas.concat instead.\n",
      "  bond_detail = bond_detail.append(pro.cb_daily(ts_code=ts_code), ignore_index=True)\n",
      "/var/folders/84/yp82d91d5jvdwmx6kd1td9640000gn/T/ipykernel_3793/3957324227.py:6: FutureWarning: The frame.append method is deprecated and will be removed from pandas in a future version. Use pandas.concat instead.\n",
      "  bond_detail = bond_detail.append(pro.cb_daily(ts_code=ts_code), ignore_index=True)\n",
      "/var/folders/84/yp82d91d5jvdwmx6kd1td9640000gn/T/ipykernel_3793/3957324227.py:6: FutureWarning: The frame.append method is deprecated and will be removed from pandas in a future version. Use pandas.concat instead.\n",
      "  bond_detail = bond_detail.append(pro.cb_daily(ts_code=ts_code), ignore_index=True)\n",
      "/var/folders/84/yp82d91d5jvdwmx6kd1td9640000gn/T/ipykernel_3793/3957324227.py:6: FutureWarning: The frame.append method is deprecated and will be removed from pandas in a future version. Use pandas.concat instead.\n",
      "  bond_detail = bond_detail.append(pro.cb_daily(ts_code=ts_code), ignore_index=True)\n",
      "/var/folders/84/yp82d91d5jvdwmx6kd1td9640000gn/T/ipykernel_3793/3957324227.py:6: FutureWarning: The frame.append method is deprecated and will be removed from pandas in a future version. Use pandas.concat instead.\n",
      "  bond_detail = bond_detail.append(pro.cb_daily(ts_code=ts_code), ignore_index=True)\n",
      "/var/folders/84/yp82d91d5jvdwmx6kd1td9640000gn/T/ipykernel_3793/3957324227.py:6: FutureWarning: The frame.append method is deprecated and will be removed from pandas in a future version. Use pandas.concat instead.\n",
      "  bond_detail = bond_detail.append(pro.cb_daily(ts_code=ts_code), ignore_index=True)\n",
      "/var/folders/84/yp82d91d5jvdwmx6kd1td9640000gn/T/ipykernel_3793/3957324227.py:6: FutureWarning: The frame.append method is deprecated and will be removed from pandas in a future version. Use pandas.concat instead.\n",
      "  bond_detail = bond_detail.append(pro.cb_daily(ts_code=ts_code), ignore_index=True)\n",
      "/var/folders/84/yp82d91d5jvdwmx6kd1td9640000gn/T/ipykernel_3793/3957324227.py:6: FutureWarning: The frame.append method is deprecated and will be removed from pandas in a future version. Use pandas.concat instead.\n",
      "  bond_detail = bond_detail.append(pro.cb_daily(ts_code=ts_code), ignore_index=True)\n",
      "/var/folders/84/yp82d91d5jvdwmx6kd1td9640000gn/T/ipykernel_3793/3957324227.py:6: FutureWarning: The frame.append method is deprecated and will be removed from pandas in a future version. Use pandas.concat instead.\n",
      "  bond_detail = bond_detail.append(pro.cb_daily(ts_code=ts_code), ignore_index=True)\n",
      "/var/folders/84/yp82d91d5jvdwmx6kd1td9640000gn/T/ipykernel_3793/3957324227.py:6: FutureWarning: The frame.append method is deprecated and will be removed from pandas in a future version. Use pandas.concat instead.\n",
      "  bond_detail = bond_detail.append(pro.cb_daily(ts_code=ts_code), ignore_index=True)\n",
      "/var/folders/84/yp82d91d5jvdwmx6kd1td9640000gn/T/ipykernel_3793/3957324227.py:6: FutureWarning: The frame.append method is deprecated and will be removed from pandas in a future version. Use pandas.concat instead.\n",
      "  bond_detail = bond_detail.append(pro.cb_daily(ts_code=ts_code), ignore_index=True)\n",
      "/var/folders/84/yp82d91d5jvdwmx6kd1td9640000gn/T/ipykernel_3793/3957324227.py:6: FutureWarning: The frame.append method is deprecated and will be removed from pandas in a future version. Use pandas.concat instead.\n",
      "  bond_detail = bond_detail.append(pro.cb_daily(ts_code=ts_code), ignore_index=True)\n",
      "/var/folders/84/yp82d91d5jvdwmx6kd1td9640000gn/T/ipykernel_3793/3957324227.py:6: FutureWarning: The frame.append method is deprecated and will be removed from pandas in a future version. Use pandas.concat instead.\n",
      "  bond_detail = bond_detail.append(pro.cb_daily(ts_code=ts_code), ignore_index=True)\n",
      "/var/folders/84/yp82d91d5jvdwmx6kd1td9640000gn/T/ipykernel_3793/3957324227.py:6: FutureWarning: The frame.append method is deprecated and will be removed from pandas in a future version. Use pandas.concat instead.\n",
      "  bond_detail = bond_detail.append(pro.cb_daily(ts_code=ts_code), ignore_index=True)\n",
      "/var/folders/84/yp82d91d5jvdwmx6kd1td9640000gn/T/ipykernel_3793/3957324227.py:6: FutureWarning: The frame.append method is deprecated and will be removed from pandas in a future version. Use pandas.concat instead.\n",
      "  bond_detail = bond_detail.append(pro.cb_daily(ts_code=ts_code), ignore_index=True)\n",
      "/var/folders/84/yp82d91d5jvdwmx6kd1td9640000gn/T/ipykernel_3793/3957324227.py:6: FutureWarning: The frame.append method is deprecated and will be removed from pandas in a future version. Use pandas.concat instead.\n",
      "  bond_detail = bond_detail.append(pro.cb_daily(ts_code=ts_code), ignore_index=True)\n",
      "/var/folders/84/yp82d91d5jvdwmx6kd1td9640000gn/T/ipykernel_3793/3957324227.py:6: FutureWarning: The frame.append method is deprecated and will be removed from pandas in a future version. Use pandas.concat instead.\n",
      "  bond_detail = bond_detail.append(pro.cb_daily(ts_code=ts_code), ignore_index=True)\n",
      "/var/folders/84/yp82d91d5jvdwmx6kd1td9640000gn/T/ipykernel_3793/3957324227.py:6: FutureWarning: The frame.append method is deprecated and will be removed from pandas in a future version. Use pandas.concat instead.\n",
      "  bond_detail = bond_detail.append(pro.cb_daily(ts_code=ts_code), ignore_index=True)\n",
      "/var/folders/84/yp82d91d5jvdwmx6kd1td9640000gn/T/ipykernel_3793/3957324227.py:6: FutureWarning: The frame.append method is deprecated and will be removed from pandas in a future version. Use pandas.concat instead.\n",
      "  bond_detail = bond_detail.append(pro.cb_daily(ts_code=ts_code), ignore_index=True)\n",
      "/var/folders/84/yp82d91d5jvdwmx6kd1td9640000gn/T/ipykernel_3793/3957324227.py:6: FutureWarning: The frame.append method is deprecated and will be removed from pandas in a future version. Use pandas.concat instead.\n",
      "  bond_detail = bond_detail.append(pro.cb_daily(ts_code=ts_code), ignore_index=True)\n",
      "/var/folders/84/yp82d91d5jvdwmx6kd1td9640000gn/T/ipykernel_3793/3957324227.py:6: FutureWarning: The frame.append method is deprecated and will be removed from pandas in a future version. Use pandas.concat instead.\n",
      "  bond_detail = bond_detail.append(pro.cb_daily(ts_code=ts_code), ignore_index=True)\n",
      "/var/folders/84/yp82d91d5jvdwmx6kd1td9640000gn/T/ipykernel_3793/3957324227.py:6: FutureWarning: The frame.append method is deprecated and will be removed from pandas in a future version. Use pandas.concat instead.\n",
      "  bond_detail = bond_detail.append(pro.cb_daily(ts_code=ts_code), ignore_index=True)\n",
      "/var/folders/84/yp82d91d5jvdwmx6kd1td9640000gn/T/ipykernel_3793/3957324227.py:6: FutureWarning: The frame.append method is deprecated and will be removed from pandas in a future version. Use pandas.concat instead.\n",
      "  bond_detail = bond_detail.append(pro.cb_daily(ts_code=ts_code), ignore_index=True)\n",
      "/var/folders/84/yp82d91d5jvdwmx6kd1td9640000gn/T/ipykernel_3793/3957324227.py:6: FutureWarning: The frame.append method is deprecated and will be removed from pandas in a future version. Use pandas.concat instead.\n",
      "  bond_detail = bond_detail.append(pro.cb_daily(ts_code=ts_code), ignore_index=True)\n",
      "/var/folders/84/yp82d91d5jvdwmx6kd1td9640000gn/T/ipykernel_3793/3957324227.py:6: FutureWarning: The frame.append method is deprecated and will be removed from pandas in a future version. Use pandas.concat instead.\n",
      "  bond_detail = bond_detail.append(pro.cb_daily(ts_code=ts_code), ignore_index=True)\n",
      "/var/folders/84/yp82d91d5jvdwmx6kd1td9640000gn/T/ipykernel_3793/3957324227.py:6: FutureWarning: The frame.append method is deprecated and will be removed from pandas in a future version. Use pandas.concat instead.\n",
      "  bond_detail = bond_detail.append(pro.cb_daily(ts_code=ts_code), ignore_index=True)\n",
      "/var/folders/84/yp82d91d5jvdwmx6kd1td9640000gn/T/ipykernel_3793/3957324227.py:6: FutureWarning: The frame.append method is deprecated and will be removed from pandas in a future version. Use pandas.concat instead.\n",
      "  bond_detail = bond_detail.append(pro.cb_daily(ts_code=ts_code), ignore_index=True)\n",
      "/var/folders/84/yp82d91d5jvdwmx6kd1td9640000gn/T/ipykernel_3793/3957324227.py:6: FutureWarning: The frame.append method is deprecated and will be removed from pandas in a future version. Use pandas.concat instead.\n",
      "  bond_detail = bond_detail.append(pro.cb_daily(ts_code=ts_code), ignore_index=True)\n",
      "/var/folders/84/yp82d91d5jvdwmx6kd1td9640000gn/T/ipykernel_3793/3957324227.py:6: FutureWarning: The frame.append method is deprecated and will be removed from pandas in a future version. Use pandas.concat instead.\n",
      "  bond_detail = bond_detail.append(pro.cb_daily(ts_code=ts_code), ignore_index=True)\n",
      "/var/folders/84/yp82d91d5jvdwmx6kd1td9640000gn/T/ipykernel_3793/3957324227.py:6: FutureWarning: The frame.append method is deprecated and will be removed from pandas in a future version. Use pandas.concat instead.\n",
      "  bond_detail = bond_detail.append(pro.cb_daily(ts_code=ts_code), ignore_index=True)\n",
      "/var/folders/84/yp82d91d5jvdwmx6kd1td9640000gn/T/ipykernel_3793/3957324227.py:6: FutureWarning: The frame.append method is deprecated and will be removed from pandas in a future version. Use pandas.concat instead.\n",
      "  bond_detail = bond_detail.append(pro.cb_daily(ts_code=ts_code), ignore_index=True)\n",
      "/var/folders/84/yp82d91d5jvdwmx6kd1td9640000gn/T/ipykernel_3793/3957324227.py:6: FutureWarning: The frame.append method is deprecated and will be removed from pandas in a future version. Use pandas.concat instead.\n",
      "  bond_detail = bond_detail.append(pro.cb_daily(ts_code=ts_code), ignore_index=True)\n",
      "/var/folders/84/yp82d91d5jvdwmx6kd1td9640000gn/T/ipykernel_3793/3957324227.py:6: FutureWarning: The frame.append method is deprecated and will be removed from pandas in a future version. Use pandas.concat instead.\n",
      "  bond_detail = bond_detail.append(pro.cb_daily(ts_code=ts_code), ignore_index=True)\n",
      "/var/folders/84/yp82d91d5jvdwmx6kd1td9640000gn/T/ipykernel_3793/3957324227.py:6: FutureWarning: The frame.append method is deprecated and will be removed from pandas in a future version. Use pandas.concat instead.\n",
      "  bond_detail = bond_detail.append(pro.cb_daily(ts_code=ts_code), ignore_index=True)\n",
      "/var/folders/84/yp82d91d5jvdwmx6kd1td9640000gn/T/ipykernel_3793/3957324227.py:6: FutureWarning: The frame.append method is deprecated and will be removed from pandas in a future version. Use pandas.concat instead.\n",
      "  bond_detail = bond_detail.append(pro.cb_daily(ts_code=ts_code), ignore_index=True)\n",
      "/var/folders/84/yp82d91d5jvdwmx6kd1td9640000gn/T/ipykernel_3793/3957324227.py:6: FutureWarning: The frame.append method is deprecated and will be removed from pandas in a future version. Use pandas.concat instead.\n",
      "  bond_detail = bond_detail.append(pro.cb_daily(ts_code=ts_code), ignore_index=True)\n",
      "/var/folders/84/yp82d91d5jvdwmx6kd1td9640000gn/T/ipykernel_3793/3957324227.py:6: FutureWarning: The frame.append method is deprecated and will be removed from pandas in a future version. Use pandas.concat instead.\n",
      "  bond_detail = bond_detail.append(pro.cb_daily(ts_code=ts_code), ignore_index=True)\n",
      "/var/folders/84/yp82d91d5jvdwmx6kd1td9640000gn/T/ipykernel_3793/3957324227.py:6: FutureWarning: The frame.append method is deprecated and will be removed from pandas in a future version. Use pandas.concat instead.\n",
      "  bond_detail = bond_detail.append(pro.cb_daily(ts_code=ts_code), ignore_index=True)\n",
      "/var/folders/84/yp82d91d5jvdwmx6kd1td9640000gn/T/ipykernel_3793/3957324227.py:6: FutureWarning: The frame.append method is deprecated and will be removed from pandas in a future version. Use pandas.concat instead.\n",
      "  bond_detail = bond_detail.append(pro.cb_daily(ts_code=ts_code), ignore_index=True)\n",
      "/var/folders/84/yp82d91d5jvdwmx6kd1td9640000gn/T/ipykernel_3793/3957324227.py:6: FutureWarning: The frame.append method is deprecated and will be removed from pandas in a future version. Use pandas.concat instead.\n",
      "  bond_detail = bond_detail.append(pro.cb_daily(ts_code=ts_code), ignore_index=True)\n",
      "/var/folders/84/yp82d91d5jvdwmx6kd1td9640000gn/T/ipykernel_3793/3957324227.py:6: FutureWarning: The frame.append method is deprecated and will be removed from pandas in a future version. Use pandas.concat instead.\n",
      "  bond_detail = bond_detail.append(pro.cb_daily(ts_code=ts_code), ignore_index=True)\n",
      "/var/folders/84/yp82d91d5jvdwmx6kd1td9640000gn/T/ipykernel_3793/3957324227.py:6: FutureWarning: The frame.append method is deprecated and will be removed from pandas in a future version. Use pandas.concat instead.\n",
      "  bond_detail = bond_detail.append(pro.cb_daily(ts_code=ts_code), ignore_index=True)\n",
      "/var/folders/84/yp82d91d5jvdwmx6kd1td9640000gn/T/ipykernel_3793/3957324227.py:6: FutureWarning: The frame.append method is deprecated and will be removed from pandas in a future version. Use pandas.concat instead.\n",
      "  bond_detail = bond_detail.append(pro.cb_daily(ts_code=ts_code), ignore_index=True)\n",
      "/var/folders/84/yp82d91d5jvdwmx6kd1td9640000gn/T/ipykernel_3793/3957324227.py:6: FutureWarning: The frame.append method is deprecated and will be removed from pandas in a future version. Use pandas.concat instead.\n",
      "  bond_detail = bond_detail.append(pro.cb_daily(ts_code=ts_code), ignore_index=True)\n",
      "/var/folders/84/yp82d91d5jvdwmx6kd1td9640000gn/T/ipykernel_3793/3957324227.py:6: FutureWarning: The frame.append method is deprecated and will be removed from pandas in a future version. Use pandas.concat instead.\n",
      "  bond_detail = bond_detail.append(pro.cb_daily(ts_code=ts_code), ignore_index=True)\n",
      "/var/folders/84/yp82d91d5jvdwmx6kd1td9640000gn/T/ipykernel_3793/3957324227.py:6: FutureWarning: The frame.append method is deprecated and will be removed from pandas in a future version. Use pandas.concat instead.\n",
      "  bond_detail = bond_detail.append(pro.cb_daily(ts_code=ts_code), ignore_index=True)\n",
      "/var/folders/84/yp82d91d5jvdwmx6kd1td9640000gn/T/ipykernel_3793/3957324227.py:6: FutureWarning: The frame.append method is deprecated and will be removed from pandas in a future version. Use pandas.concat instead.\n",
      "  bond_detail = bond_detail.append(pro.cb_daily(ts_code=ts_code), ignore_index=True)\n",
      "/var/folders/84/yp82d91d5jvdwmx6kd1td9640000gn/T/ipykernel_3793/3957324227.py:6: FutureWarning: The frame.append method is deprecated and will be removed from pandas in a future version. Use pandas.concat instead.\n",
      "  bond_detail = bond_detail.append(pro.cb_daily(ts_code=ts_code), ignore_index=True)\n",
      "/var/folders/84/yp82d91d5jvdwmx6kd1td9640000gn/T/ipykernel_3793/3957324227.py:6: FutureWarning: The frame.append method is deprecated and will be removed from pandas in a future version. Use pandas.concat instead.\n",
      "  bond_detail = bond_detail.append(pro.cb_daily(ts_code=ts_code), ignore_index=True)\n",
      "/var/folders/84/yp82d91d5jvdwmx6kd1td9640000gn/T/ipykernel_3793/3957324227.py:6: FutureWarning: The frame.append method is deprecated and will be removed from pandas in a future version. Use pandas.concat instead.\n",
      "  bond_detail = bond_detail.append(pro.cb_daily(ts_code=ts_code), ignore_index=True)\n",
      "/var/folders/84/yp82d91d5jvdwmx6kd1td9640000gn/T/ipykernel_3793/3957324227.py:6: FutureWarning: The frame.append method is deprecated and will be removed from pandas in a future version. Use pandas.concat instead.\n",
      "  bond_detail = bond_detail.append(pro.cb_daily(ts_code=ts_code), ignore_index=True)\n",
      "/var/folders/84/yp82d91d5jvdwmx6kd1td9640000gn/T/ipykernel_3793/3957324227.py:6: FutureWarning: The frame.append method is deprecated and will be removed from pandas in a future version. Use pandas.concat instead.\n",
      "  bond_detail = bond_detail.append(pro.cb_daily(ts_code=ts_code), ignore_index=True)\n",
      "/var/folders/84/yp82d91d5jvdwmx6kd1td9640000gn/T/ipykernel_3793/3957324227.py:6: FutureWarning: The frame.append method is deprecated and will be removed from pandas in a future version. Use pandas.concat instead.\n",
      "  bond_detail = bond_detail.append(pro.cb_daily(ts_code=ts_code), ignore_index=True)\n",
      "/var/folders/84/yp82d91d5jvdwmx6kd1td9640000gn/T/ipykernel_3793/3957324227.py:6: FutureWarning: The frame.append method is deprecated and will be removed from pandas in a future version. Use pandas.concat instead.\n",
      "  bond_detail = bond_detail.append(pro.cb_daily(ts_code=ts_code), ignore_index=True)\n",
      "/var/folders/84/yp82d91d5jvdwmx6kd1td9640000gn/T/ipykernel_3793/3957324227.py:6: FutureWarning: The frame.append method is deprecated and will be removed from pandas in a future version. Use pandas.concat instead.\n",
      "  bond_detail = bond_detail.append(pro.cb_daily(ts_code=ts_code), ignore_index=True)\n",
      "/var/folders/84/yp82d91d5jvdwmx6kd1td9640000gn/T/ipykernel_3793/3957324227.py:6: FutureWarning: The frame.append method is deprecated and will be removed from pandas in a future version. Use pandas.concat instead.\n",
      "  bond_detail = bond_detail.append(pro.cb_daily(ts_code=ts_code), ignore_index=True)\n",
      "/var/folders/84/yp82d91d5jvdwmx6kd1td9640000gn/T/ipykernel_3793/3957324227.py:6: FutureWarning: The frame.append method is deprecated and will be removed from pandas in a future version. Use pandas.concat instead.\n",
      "  bond_detail = bond_detail.append(pro.cb_daily(ts_code=ts_code), ignore_index=True)\n",
      "/var/folders/84/yp82d91d5jvdwmx6kd1td9640000gn/T/ipykernel_3793/3957324227.py:6: FutureWarning: The frame.append method is deprecated and will be removed from pandas in a future version. Use pandas.concat instead.\n",
      "  bond_detail = bond_detail.append(pro.cb_daily(ts_code=ts_code), ignore_index=True)\n",
      "/var/folders/84/yp82d91d5jvdwmx6kd1td9640000gn/T/ipykernel_3793/3957324227.py:6: FutureWarning: The frame.append method is deprecated and will be removed from pandas in a future version. Use pandas.concat instead.\n",
      "  bond_detail = bond_detail.append(pro.cb_daily(ts_code=ts_code), ignore_index=True)\n",
      "/var/folders/84/yp82d91d5jvdwmx6kd1td9640000gn/T/ipykernel_3793/3957324227.py:6: FutureWarning: The frame.append method is deprecated and will be removed from pandas in a future version. Use pandas.concat instead.\n",
      "  bond_detail = bond_detail.append(pro.cb_daily(ts_code=ts_code), ignore_index=True)\n",
      "/var/folders/84/yp82d91d5jvdwmx6kd1td9640000gn/T/ipykernel_3793/3957324227.py:6: FutureWarning: The frame.append method is deprecated and will be removed from pandas in a future version. Use pandas.concat instead.\n",
      "  bond_detail = bond_detail.append(pro.cb_daily(ts_code=ts_code), ignore_index=True)\n",
      "/var/folders/84/yp82d91d5jvdwmx6kd1td9640000gn/T/ipykernel_3793/3957324227.py:6: FutureWarning: The frame.append method is deprecated and will be removed from pandas in a future version. Use pandas.concat instead.\n",
      "  bond_detail = bond_detail.append(pro.cb_daily(ts_code=ts_code), ignore_index=True)\n",
      "/var/folders/84/yp82d91d5jvdwmx6kd1td9640000gn/T/ipykernel_3793/3957324227.py:6: FutureWarning: The frame.append method is deprecated and will be removed from pandas in a future version. Use pandas.concat instead.\n",
      "  bond_detail = bond_detail.append(pro.cb_daily(ts_code=ts_code), ignore_index=True)\n",
      "/var/folders/84/yp82d91d5jvdwmx6kd1td9640000gn/T/ipykernel_3793/3957324227.py:6: FutureWarning: The frame.append method is deprecated and will be removed from pandas in a future version. Use pandas.concat instead.\n",
      "  bond_detail = bond_detail.append(pro.cb_daily(ts_code=ts_code), ignore_index=True)\n",
      "/var/folders/84/yp82d91d5jvdwmx6kd1td9640000gn/T/ipykernel_3793/3957324227.py:6: FutureWarning: The frame.append method is deprecated and will be removed from pandas in a future version. Use pandas.concat instead.\n",
      "  bond_detail = bond_detail.append(pro.cb_daily(ts_code=ts_code), ignore_index=True)\n",
      "/var/folders/84/yp82d91d5jvdwmx6kd1td9640000gn/T/ipykernel_3793/3957324227.py:6: FutureWarning: The frame.append method is deprecated and will be removed from pandas in a future version. Use pandas.concat instead.\n",
      "  bond_detail = bond_detail.append(pro.cb_daily(ts_code=ts_code), ignore_index=True)\n",
      "/var/folders/84/yp82d91d5jvdwmx6kd1td9640000gn/T/ipykernel_3793/3957324227.py:6: FutureWarning: The frame.append method is deprecated and will be removed from pandas in a future version. Use pandas.concat instead.\n",
      "  bond_detail = bond_detail.append(pro.cb_daily(ts_code=ts_code), ignore_index=True)\n",
      "/var/folders/84/yp82d91d5jvdwmx6kd1td9640000gn/T/ipykernel_3793/3957324227.py:6: FutureWarning: The frame.append method is deprecated and will be removed from pandas in a future version. Use pandas.concat instead.\n",
      "  bond_detail = bond_detail.append(pro.cb_daily(ts_code=ts_code), ignore_index=True)\n",
      "/var/folders/84/yp82d91d5jvdwmx6kd1td9640000gn/T/ipykernel_3793/3957324227.py:6: FutureWarning: The frame.append method is deprecated and will be removed from pandas in a future version. Use pandas.concat instead.\n",
      "  bond_detail = bond_detail.append(pro.cb_daily(ts_code=ts_code), ignore_index=True)\n",
      "/var/folders/84/yp82d91d5jvdwmx6kd1td9640000gn/T/ipykernel_3793/3957324227.py:6: FutureWarning: The frame.append method is deprecated and will be removed from pandas in a future version. Use pandas.concat instead.\n",
      "  bond_detail = bond_detail.append(pro.cb_daily(ts_code=ts_code), ignore_index=True)\n",
      "/var/folders/84/yp82d91d5jvdwmx6kd1td9640000gn/T/ipykernel_3793/3957324227.py:6: FutureWarning: The frame.append method is deprecated and will be removed from pandas in a future version. Use pandas.concat instead.\n",
      "  bond_detail = bond_detail.append(pro.cb_daily(ts_code=ts_code), ignore_index=True)\n",
      "/var/folders/84/yp82d91d5jvdwmx6kd1td9640000gn/T/ipykernel_3793/3957324227.py:6: FutureWarning: The frame.append method is deprecated and will be removed from pandas in a future version. Use pandas.concat instead.\n",
      "  bond_detail = bond_detail.append(pro.cb_daily(ts_code=ts_code), ignore_index=True)\n",
      "/var/folders/84/yp82d91d5jvdwmx6kd1td9640000gn/T/ipykernel_3793/3957324227.py:6: FutureWarning: The frame.append method is deprecated and will be removed from pandas in a future version. Use pandas.concat instead.\n",
      "  bond_detail = bond_detail.append(pro.cb_daily(ts_code=ts_code), ignore_index=True)\n",
      "/var/folders/84/yp82d91d5jvdwmx6kd1td9640000gn/T/ipykernel_3793/3957324227.py:6: FutureWarning: The frame.append method is deprecated and will be removed from pandas in a future version. Use pandas.concat instead.\n",
      "  bond_detail = bond_detail.append(pro.cb_daily(ts_code=ts_code), ignore_index=True)\n",
      "/var/folders/84/yp82d91d5jvdwmx6kd1td9640000gn/T/ipykernel_3793/3957324227.py:6: FutureWarning: The frame.append method is deprecated and will be removed from pandas in a future version. Use pandas.concat instead.\n",
      "  bond_detail = bond_detail.append(pro.cb_daily(ts_code=ts_code), ignore_index=True)\n",
      "/var/folders/84/yp82d91d5jvdwmx6kd1td9640000gn/T/ipykernel_3793/3957324227.py:6: FutureWarning: The frame.append method is deprecated and will be removed from pandas in a future version. Use pandas.concat instead.\n",
      "  bond_detail = bond_detail.append(pro.cb_daily(ts_code=ts_code), ignore_index=True)\n",
      "/var/folders/84/yp82d91d5jvdwmx6kd1td9640000gn/T/ipykernel_3793/3957324227.py:6: FutureWarning: The frame.append method is deprecated and will be removed from pandas in a future version. Use pandas.concat instead.\n",
      "  bond_detail = bond_detail.append(pro.cb_daily(ts_code=ts_code), ignore_index=True)\n",
      "/var/folders/84/yp82d91d5jvdwmx6kd1td9640000gn/T/ipykernel_3793/3957324227.py:6: FutureWarning: The frame.append method is deprecated and will be removed from pandas in a future version. Use pandas.concat instead.\n",
      "  bond_detail = bond_detail.append(pro.cb_daily(ts_code=ts_code), ignore_index=True)\n",
      "/var/folders/84/yp82d91d5jvdwmx6kd1td9640000gn/T/ipykernel_3793/3957324227.py:6: FutureWarning: The frame.append method is deprecated and will be removed from pandas in a future version. Use pandas.concat instead.\n",
      "  bond_detail = bond_detail.append(pro.cb_daily(ts_code=ts_code), ignore_index=True)\n",
      "/var/folders/84/yp82d91d5jvdwmx6kd1td9640000gn/T/ipykernel_3793/3957324227.py:6: FutureWarning: The frame.append method is deprecated and will be removed from pandas in a future version. Use pandas.concat instead.\n",
      "  bond_detail = bond_detail.append(pro.cb_daily(ts_code=ts_code), ignore_index=True)\n",
      "/var/folders/84/yp82d91d5jvdwmx6kd1td9640000gn/T/ipykernel_3793/3957324227.py:6: FutureWarning: The frame.append method is deprecated and will be removed from pandas in a future version. Use pandas.concat instead.\n",
      "  bond_detail = bond_detail.append(pro.cb_daily(ts_code=ts_code), ignore_index=True)\n",
      "/var/folders/84/yp82d91d5jvdwmx6kd1td9640000gn/T/ipykernel_3793/3957324227.py:6: FutureWarning: The frame.append method is deprecated and will be removed from pandas in a future version. Use pandas.concat instead.\n",
      "  bond_detail = bond_detail.append(pro.cb_daily(ts_code=ts_code), ignore_index=True)\n",
      "/var/folders/84/yp82d91d5jvdwmx6kd1td9640000gn/T/ipykernel_3793/3957324227.py:6: FutureWarning: The frame.append method is deprecated and will be removed from pandas in a future version. Use pandas.concat instead.\n",
      "  bond_detail = bond_detail.append(pro.cb_daily(ts_code=ts_code), ignore_index=True)\n",
      "/var/folders/84/yp82d91d5jvdwmx6kd1td9640000gn/T/ipykernel_3793/3957324227.py:6: FutureWarning: The frame.append method is deprecated and will be removed from pandas in a future version. Use pandas.concat instead.\n",
      "  bond_detail = bond_detail.append(pro.cb_daily(ts_code=ts_code), ignore_index=True)\n",
      "/var/folders/84/yp82d91d5jvdwmx6kd1td9640000gn/T/ipykernel_3793/3957324227.py:6: FutureWarning: The frame.append method is deprecated and will be removed from pandas in a future version. Use pandas.concat instead.\n",
      "  bond_detail = bond_detail.append(pro.cb_daily(ts_code=ts_code), ignore_index=True)\n",
      "/var/folders/84/yp82d91d5jvdwmx6kd1td9640000gn/T/ipykernel_3793/3957324227.py:6: FutureWarning: The frame.append method is deprecated and will be removed from pandas in a future version. Use pandas.concat instead.\n",
      "  bond_detail = bond_detail.append(pro.cb_daily(ts_code=ts_code), ignore_index=True)\n",
      "/var/folders/84/yp82d91d5jvdwmx6kd1td9640000gn/T/ipykernel_3793/3957324227.py:6: FutureWarning: The frame.append method is deprecated and will be removed from pandas in a future version. Use pandas.concat instead.\n",
      "  bond_detail = bond_detail.append(pro.cb_daily(ts_code=ts_code), ignore_index=True)\n",
      "/var/folders/84/yp82d91d5jvdwmx6kd1td9640000gn/T/ipykernel_3793/3957324227.py:6: FutureWarning: The frame.append method is deprecated and will be removed from pandas in a future version. Use pandas.concat instead.\n",
      "  bond_detail = bond_detail.append(pro.cb_daily(ts_code=ts_code), ignore_index=True)\n",
      "/var/folders/84/yp82d91d5jvdwmx6kd1td9640000gn/T/ipykernel_3793/3957324227.py:6: FutureWarning: The frame.append method is deprecated and will be removed from pandas in a future version. Use pandas.concat instead.\n",
      "  bond_detail = bond_detail.append(pro.cb_daily(ts_code=ts_code), ignore_index=True)\n",
      "/var/folders/84/yp82d91d5jvdwmx6kd1td9640000gn/T/ipykernel_3793/3957324227.py:6: FutureWarning: The frame.append method is deprecated and will be removed from pandas in a future version. Use pandas.concat instead.\n",
      "  bond_detail = bond_detail.append(pro.cb_daily(ts_code=ts_code), ignore_index=True)\n",
      "/var/folders/84/yp82d91d5jvdwmx6kd1td9640000gn/T/ipykernel_3793/3957324227.py:6: FutureWarning: The frame.append method is deprecated and will be removed from pandas in a future version. Use pandas.concat instead.\n",
      "  bond_detail = bond_detail.append(pro.cb_daily(ts_code=ts_code), ignore_index=True)\n",
      "/var/folders/84/yp82d91d5jvdwmx6kd1td9640000gn/T/ipykernel_3793/3957324227.py:6: FutureWarning: The frame.append method is deprecated and will be removed from pandas in a future version. Use pandas.concat instead.\n",
      "  bond_detail = bond_detail.append(pro.cb_daily(ts_code=ts_code), ignore_index=True)\n",
      "/var/folders/84/yp82d91d5jvdwmx6kd1td9640000gn/T/ipykernel_3793/3957324227.py:6: FutureWarning: The frame.append method is deprecated and will be removed from pandas in a future version. Use pandas.concat instead.\n",
      "  bond_detail = bond_detail.append(pro.cb_daily(ts_code=ts_code), ignore_index=True)\n",
      "/var/folders/84/yp82d91d5jvdwmx6kd1td9640000gn/T/ipykernel_3793/3957324227.py:6: FutureWarning: The frame.append method is deprecated and will be removed from pandas in a future version. Use pandas.concat instead.\n",
      "  bond_detail = bond_detail.append(pro.cb_daily(ts_code=ts_code), ignore_index=True)\n",
      "/var/folders/84/yp82d91d5jvdwmx6kd1td9640000gn/T/ipykernel_3793/3957324227.py:6: FutureWarning: The frame.append method is deprecated and will be removed from pandas in a future version. Use pandas.concat instead.\n",
      "  bond_detail = bond_detail.append(pro.cb_daily(ts_code=ts_code), ignore_index=True)\n",
      "/var/folders/84/yp82d91d5jvdwmx6kd1td9640000gn/T/ipykernel_3793/3957324227.py:6: FutureWarning: The frame.append method is deprecated and will be removed from pandas in a future version. Use pandas.concat instead.\n",
      "  bond_detail = bond_detail.append(pro.cb_daily(ts_code=ts_code), ignore_index=True)\n",
      "/var/folders/84/yp82d91d5jvdwmx6kd1td9640000gn/T/ipykernel_3793/3957324227.py:6: FutureWarning: The frame.append method is deprecated and will be removed from pandas in a future version. Use pandas.concat instead.\n",
      "  bond_detail = bond_detail.append(pro.cb_daily(ts_code=ts_code), ignore_index=True)\n",
      "/var/folders/84/yp82d91d5jvdwmx6kd1td9640000gn/T/ipykernel_3793/3957324227.py:6: FutureWarning: The frame.append method is deprecated and will be removed from pandas in a future version. Use pandas.concat instead.\n",
      "  bond_detail = bond_detail.append(pro.cb_daily(ts_code=ts_code), ignore_index=True)\n",
      "/var/folders/84/yp82d91d5jvdwmx6kd1td9640000gn/T/ipykernel_3793/3957324227.py:6: FutureWarning: The frame.append method is deprecated and will be removed from pandas in a future version. Use pandas.concat instead.\n",
      "  bond_detail = bond_detail.append(pro.cb_daily(ts_code=ts_code), ignore_index=True)\n",
      "/var/folders/84/yp82d91d5jvdwmx6kd1td9640000gn/T/ipykernel_3793/3957324227.py:6: FutureWarning: The frame.append method is deprecated and will be removed from pandas in a future version. Use pandas.concat instead.\n",
      "  bond_detail = bond_detail.append(pro.cb_daily(ts_code=ts_code), ignore_index=True)\n",
      "/var/folders/84/yp82d91d5jvdwmx6kd1td9640000gn/T/ipykernel_3793/3957324227.py:6: FutureWarning: The frame.append method is deprecated and will be removed from pandas in a future version. Use pandas.concat instead.\n",
      "  bond_detail = bond_detail.append(pro.cb_daily(ts_code=ts_code), ignore_index=True)\n"
     ]
    },
    {
     "name": "stdout",
     "output_type": "stream",
     "text": [
      "Complete!!!\n"
     ]
    },
    {
     "name": "stderr",
     "output_type": "stream",
     "text": [
      "/var/folders/84/yp82d91d5jvdwmx6kd1td9640000gn/T/ipykernel_3793/3957324227.py:6: FutureWarning: The frame.append method is deprecated and will be removed from pandas in a future version. Use pandas.concat instead.\n",
      "  bond_detail = bond_detail.append(pro.cb_daily(ts_code=ts_code), ignore_index=True)\n"
     ]
    }
   ],
   "source": [
    "for ts_code in bond_2016_2018['ts_code']:\n",
    "    time.sleep(12)\n",
    "    if len(bond_detail) == 0:\n",
    "        bond_detail = pro.cb_daily(ts_code=ts_code)\n",
    "    else:\n",
    "        bond_detail = bond_detail.append(pro.cb_daily(ts_code=ts_code), ignore_index=True)\n",
    "\n",
    "print(\"Complete!!!\")"
   ],
   "metadata": {
    "collapsed": false,
    "pycharm": {
     "name": "#%%\n"
    }
   }
  },
  {
   "cell_type": "code",
   "execution_count": 53,
   "outputs": [
    {
     "data": {
      "text/plain": "96185"
     },
     "execution_count": 53,
     "metadata": {},
     "output_type": "execute_result"
    }
   ],
   "source": [
    "# 获取的数据，存储到数据库中\n",
    "from sqlalchemy import create_engine\n",
    "engine = create_engine('sqlite:///ak_stock.db')\n",
    "\n",
    "bond_detail.to_sql(con=engine, name='cb_detail', if_exists='append')"
   ],
   "metadata": {
    "collapsed": false,
    "pycharm": {
     "name": "#%%\n"
    }
   }
  },
  {
   "cell_type": "code",
   "execution_count": 62,
   "outputs": [
    {
     "name": "stderr",
     "output_type": "stream",
     "text": [
      "/var/folders/84/yp82d91d5jvdwmx6kd1td9640000gn/T/ipykernel_3793/649356163.py:1: SettingWithCopyWarning: \n",
      "A value is trying to be set on a copy of a slice from a DataFrame.\n",
      "Try using .loc[row_indexer,col_indexer] = value instead\n",
      "\n",
      "See the caveats in the documentation: https://pandas.pydata.org/pandas-docs/stable/user_guide/indexing.html#returning-a-view-versus-a-copy\n",
      "  bond_2016_2018['highest_price'] = 0\n",
      "/var/folders/84/yp82d91d5jvdwmx6kd1td9640000gn/T/ipykernel_3793/649356163.py:2: SettingWithCopyWarning: \n",
      "A value is trying to be set on a copy of a slice from a DataFrame.\n",
      "Try using .loc[row_indexer,col_indexer] = value instead\n",
      "\n",
      "See the caveats in the documentation: https://pandas.pydata.org/pandas-docs/stable/user_guide/indexing.html#returning-a-view-versus-a-copy\n",
      "  bond_2016_2018['lowest_price'] = 0\n"
     ]
    }
   ],
   "source": [
    "bond_2016_2018['highest_price'] = 0\n",
    "bond_2016_2018['lowest_price'] = 0"
   ],
   "metadata": {
    "collapsed": false,
    "pycharm": {
     "name": "#%%\n"
    }
   }
  },
  {
   "cell_type": "code",
   "execution_count": 70,
   "outputs": [
    {
     "name": "stderr",
     "output_type": "stream",
     "text": [
      "/var/folders/84/yp82d91d5jvdwmx6kd1td9640000gn/T/ipykernel_3793/3152126764.py:3: SettingWithCopyWarning: \n",
      "A value is trying to be set on a copy of a slice from a DataFrame.\n",
      "Try using .loc[row_indexer,col_indexer] = value instead\n",
      "\n",
      "See the caveats in the documentation: https://pandas.pydata.org/pandas-docs/stable/user_guide/indexing.html#returning-a-view-versus-a-copy\n",
      "  bond_2016_2018.loc[index,'highest_price'] = bond_detail[bond_detail['ts_code'] == row['ts_code']]['close'].max()\n",
      "/var/folders/84/yp82d91d5jvdwmx6kd1td9640000gn/T/ipykernel_3793/3152126764.py:4: SettingWithCopyWarning: \n",
      "A value is trying to be set on a copy of a slice from a DataFrame.\n",
      "Try using .loc[row_indexer,col_indexer] = value instead\n",
      "\n",
      "See the caveats in the documentation: https://pandas.pydata.org/pandas-docs/stable/user_guide/indexing.html#returning-a-view-versus-a-copy\n",
      "  bond_2016_2018.loc[index,'lowest_price'] = bond_detail[bond_detail['ts_code'] == row['ts_code']]['close'].min()\n"
     ]
    }
   ],
   "source": [
    "# 获取到目前位置，可转债的价格波动情况\n",
    "for index, row in bond_2016_2018.iterrows():\n",
    "    bond_2016_2018.loc[index,'highest_price'] = bond_detail[bond_detail['ts_code'] == row['ts_code']]['close'].max()\n",
    "    bond_2016_2018.loc[index,'lowest_price'] = bond_detail[bond_detail['ts_code'] == row['ts_code']]['close'].min()\n"
   ],
   "metadata": {
    "collapsed": false,
    "pycharm": {
     "name": "#%%\n"
    }
   }
  },
  {
   "cell_type": "code",
   "execution_count": 72,
   "outputs": [
    {
     "name": "stderr",
     "output_type": "stream",
     "text": [
      "/var/folders/84/yp82d91d5jvdwmx6kd1td9640000gn/T/ipykernel_3793/2584989391.py:1: SettingWithCopyWarning: \n",
      "A value is trying to be set on a copy of a slice from a DataFrame.\n",
      "Try using .loc[row_indexer,col_indexer] = value instead\n",
      "\n",
      "See the caveats in the documentation: https://pandas.pydata.org/pandas-docs/stable/user_guide/indexing.html#returning-a-view-versus-a-copy\n",
      "  bond_2016_2018[\"diff_date\"] = (pd.to_datetime(bond_2016_2018['delist_date']) - pd.to_datetime(bond_2016_2018['list_date']))\n"
     ]
    }
   ],
   "source": [
    "# 获取可转债被交易时间\n",
    "bond_2016_2018[\"diff_date\"] = (pd.to_datetime(bond_2016_2018['delist_date']) - pd.to_datetime(bond_2016_2018['list_date']))"
   ],
   "metadata": {
    "collapsed": false,
    "pycharm": {
     "name": "#%%\n"
    }
   }
  },
  {
   "cell_type": "code",
   "execution_count": 73,
   "outputs": [
    {
     "data": {
      "text/plain": "       ts_code bond_short_name   stk_code stk_short_name   list_date  \\\n113  123001.SZ            蓝标转债  300058.SZ           蓝色光标  2016-01-08   \n114  110032.SH            三一转债  600031.SH           三一重工  2016-01-18   \n115  110033.SH            国贸转债  600755.SH           厦门国贸  2016-01-19   \n116  110034.SH            九州转债  600998.SH            九州通  2016-01-29   \n117  113009.SH            广汽转债  601238.SH           广汽集团  2016-02-04   \n..         ...             ...        ...            ...         ...   \n227  113522.SH            旭升转债  603305.SH           旭升股份  2018-12-11   \n228  128049.SZ            华源转债  002787.SZ           华源控股  2018-12-20   \n229  110048.SH            福能转债  600483.SH           福能股份  2018-12-28   \n230  113523.SH            伟明转债  603568.SH           伟明环保  2018-12-26   \n231  128050.SZ            钧达转债  002865.SZ           钧达股份  2018-12-27   \n\n    delist_date  first_conv_price  conv_price  highest_price  lowest_price  \\\n113  2019-10-24             15.30        4.28        156.900         85.39   \n114  2019-03-26              7.50        7.25        178.510        103.95   \n115  2021-11-05              9.03        6.72        141.080        101.64   \n116  2022-01-17             18.78       17.83        143.960        100.90   \n117  2022-01-24             21.99       13.92        146.840         98.81   \n..          ...               ...         ...            ...           ...   \n227  2020-02-28             29.86       29.60        213.140        100.60   \n228        None              7.58        7.37        131.001         91.20   \n229        None              8.69        7.64        263.940        103.89   \n230  2020-02-06             23.92       17.47        155.780         99.33   \n231  2022-02-14             21.74       14.81        510.610         93.01   \n\n    diff_date  \n113 1385 days  \n114 1163 days  \n115 2117 days  \n116 2180 days  \n117 2181 days  \n..        ...  \n227  444 days  \n228       NaT  \n229       NaT  \n230  407 days  \n231 1145 days  \n\n[119 rows x 11 columns]",
      "text/html": "<div>\n<style scoped>\n    .dataframe tbody tr th:only-of-type {\n        vertical-align: middle;\n    }\n\n    .dataframe tbody tr th {\n        vertical-align: top;\n    }\n\n    .dataframe thead th {\n        text-align: right;\n    }\n</style>\n<table border=\"1\" class=\"dataframe\">\n  <thead>\n    <tr style=\"text-align: right;\">\n      <th></th>\n      <th>ts_code</th>\n      <th>bond_short_name</th>\n      <th>stk_code</th>\n      <th>stk_short_name</th>\n      <th>list_date</th>\n      <th>delist_date</th>\n      <th>first_conv_price</th>\n      <th>conv_price</th>\n      <th>highest_price</th>\n      <th>lowest_price</th>\n      <th>diff_date</th>\n    </tr>\n  </thead>\n  <tbody>\n    <tr>\n      <th>113</th>\n      <td>123001.SZ</td>\n      <td>蓝标转债</td>\n      <td>300058.SZ</td>\n      <td>蓝色光标</td>\n      <td>2016-01-08</td>\n      <td>2019-10-24</td>\n      <td>15.30</td>\n      <td>4.28</td>\n      <td>156.900</td>\n      <td>85.39</td>\n      <td>1385 days</td>\n    </tr>\n    <tr>\n      <th>114</th>\n      <td>110032.SH</td>\n      <td>三一转债</td>\n      <td>600031.SH</td>\n      <td>三一重工</td>\n      <td>2016-01-18</td>\n      <td>2019-03-26</td>\n      <td>7.50</td>\n      <td>7.25</td>\n      <td>178.510</td>\n      <td>103.95</td>\n      <td>1163 days</td>\n    </tr>\n    <tr>\n      <th>115</th>\n      <td>110033.SH</td>\n      <td>国贸转债</td>\n      <td>600755.SH</td>\n      <td>厦门国贸</td>\n      <td>2016-01-19</td>\n      <td>2021-11-05</td>\n      <td>9.03</td>\n      <td>6.72</td>\n      <td>141.080</td>\n      <td>101.64</td>\n      <td>2117 days</td>\n    </tr>\n    <tr>\n      <th>116</th>\n      <td>110034.SH</td>\n      <td>九州转债</td>\n      <td>600998.SH</td>\n      <td>九州通</td>\n      <td>2016-01-29</td>\n      <td>2022-01-17</td>\n      <td>18.78</td>\n      <td>17.83</td>\n      <td>143.960</td>\n      <td>100.90</td>\n      <td>2180 days</td>\n    </tr>\n    <tr>\n      <th>117</th>\n      <td>113009.SH</td>\n      <td>广汽转债</td>\n      <td>601238.SH</td>\n      <td>广汽集团</td>\n      <td>2016-02-04</td>\n      <td>2022-01-24</td>\n      <td>21.99</td>\n      <td>13.92</td>\n      <td>146.840</td>\n      <td>98.81</td>\n      <td>2181 days</td>\n    </tr>\n    <tr>\n      <th>...</th>\n      <td>...</td>\n      <td>...</td>\n      <td>...</td>\n      <td>...</td>\n      <td>...</td>\n      <td>...</td>\n      <td>...</td>\n      <td>...</td>\n      <td>...</td>\n      <td>...</td>\n      <td>...</td>\n    </tr>\n    <tr>\n      <th>227</th>\n      <td>113522.SH</td>\n      <td>旭升转债</td>\n      <td>603305.SH</td>\n      <td>旭升股份</td>\n      <td>2018-12-11</td>\n      <td>2020-02-28</td>\n      <td>29.86</td>\n      <td>29.60</td>\n      <td>213.140</td>\n      <td>100.60</td>\n      <td>444 days</td>\n    </tr>\n    <tr>\n      <th>228</th>\n      <td>128049.SZ</td>\n      <td>华源转债</td>\n      <td>002787.SZ</td>\n      <td>华源控股</td>\n      <td>2018-12-20</td>\n      <td>None</td>\n      <td>7.58</td>\n      <td>7.37</td>\n      <td>131.001</td>\n      <td>91.20</td>\n      <td>NaT</td>\n    </tr>\n    <tr>\n      <th>229</th>\n      <td>110048.SH</td>\n      <td>福能转债</td>\n      <td>600483.SH</td>\n      <td>福能股份</td>\n      <td>2018-12-28</td>\n      <td>None</td>\n      <td>8.69</td>\n      <td>7.64</td>\n      <td>263.940</td>\n      <td>103.89</td>\n      <td>NaT</td>\n    </tr>\n    <tr>\n      <th>230</th>\n      <td>113523.SH</td>\n      <td>伟明转债</td>\n      <td>603568.SH</td>\n      <td>伟明环保</td>\n      <td>2018-12-26</td>\n      <td>2020-02-06</td>\n      <td>23.92</td>\n      <td>17.47</td>\n      <td>155.780</td>\n      <td>99.33</td>\n      <td>407 days</td>\n    </tr>\n    <tr>\n      <th>231</th>\n      <td>128050.SZ</td>\n      <td>钧达转债</td>\n      <td>002865.SZ</td>\n      <td>钧达股份</td>\n      <td>2018-12-27</td>\n      <td>2022-02-14</td>\n      <td>21.74</td>\n      <td>14.81</td>\n      <td>510.610</td>\n      <td>93.01</td>\n      <td>1145 days</td>\n    </tr>\n  </tbody>\n</table>\n<p>119 rows × 11 columns</p>\n</div>"
     },
     "execution_count": 73,
     "metadata": {},
     "output_type": "execute_result"
    }
   ],
   "source": [
    "bond_2016_2018"
   ],
   "metadata": {
    "collapsed": false,
    "pycharm": {
     "name": "#%%\n"
    }
   }
  },
  {
   "cell_type": "code",
   "execution_count": 79,
   "outputs": [
    {
     "data": {
      "text/plain": "95.66372580645161"
     },
     "execution_count": 79,
     "metadata": {},
     "output_type": "execute_result"
    }
   ],
   "source": [
    "bond_2016_2018.dropna()['lowest_price'].mean()"
   ],
   "metadata": {
    "collapsed": false,
    "pycharm": {
     "name": "#%%\n"
    }
   }
  },
  {
   "cell_type": "code",
   "execution_count": 88,
   "outputs": [
    {
     "data": {
      "text/plain": "<AxesSubplot:>"
     },
     "execution_count": 88,
     "metadata": {},
     "output_type": "execute_result"
    },
    {
     "data": {
      "text/plain": "<Figure size 1440x720 with 1 Axes>",
      "image/png": "[encoded data removed]"
     },
     "metadata": {
      "needs_background": "light"
     },
     "output_type": "display_data"
    }
   ],
   "source": [
    "bond_2016_2018.dropna()['lowest_price'].hist(figsize=(20,10))"
   ],
   "metadata": {
    "collapsed": false,
    "pycharm": {
     "name": "#%%\n"
    }
   }
  },
  {
   "cell_type": "code",
   "execution_count": 2,
   "outputs": [
    {
     "ename": "NameError",
     "evalue": "name 'bond_2016_2018' is not defined",
     "output_type": "error",
     "traceback": [
      "\u001B[0;31m---------------------------------------------------------------------------\u001B[0m",
      "\u001B[0;31mNameError\u001B[0m                                 Traceback (most recent call last)",
      "Input \u001B[0;32mIn [2]\u001B[0m, in \u001B[0;36m<cell line: 1>\u001B[0;34m()\u001B[0m\n\u001B[0;32m----> 1\u001B[0m \u001B[43mbond_2016_2018\u001B[49m\u001B[38;5;241m.\u001B[39mdropna()[\u001B[38;5;124m'\u001B[39m\u001B[38;5;124mhighest_price\u001B[39m\u001B[38;5;124m'\u001B[39m]\u001B[38;5;241m.\u001B[39mhist(figsize\u001B[38;5;241m=\u001B[39m(\u001B[38;5;241m20\u001B[39m,\u001B[38;5;241m10\u001B[39m))\n",
      "\u001B[0;31mNameError\u001B[0m: name 'bond_2016_2018' is not defined"
     ]
    }
   ],
   "source": [
    "bond_2016_2018.dropna()['highest_price'].hist(figsize=(20,10))"
   ],
   "metadata": {
    "collapsed": false,
    "pycharm": {
     "name": "#%%\n"
    }
   }
  },
  {
   "cell_type": "code",
   "execution_count": 90,
   "outputs": [],
   "source": [
    "bond_2016_2018_new = bond_2016_2018.dropna()"
   ],
   "metadata": {
    "collapsed": false,
    "pycharm": {
     "name": "#%%\n"
    }
   }
  },
  {
   "cell_type": "code",
   "execution_count": 98,
   "outputs": [
    {
     "data": {
      "text/plain": "0.9516129032258065"
     },
     "execution_count": 98,
     "metadata": {},
     "output_type": "execute_result"
    }
   ],
   "source": [
    "len(bond_2016_2018_new[bond_2016_2018_new['highest_price'] > 135 ]) / len(bond_2016_2018_new)"
   ],
   "metadata": {
    "collapsed": false,
    "pycharm": {
     "name": "#%%\n"
    }
   }
  },
  {
   "cell_type": "code",
   "execution_count": 99,
   "outputs": [
    {
     "data": {
      "text/plain": "       ts_code bond_short_name   stk_code stk_short_name   list_date  \\\n121  113010.SH            江南转债  601199.SH           江南水务  2016-04-05   \n122  128012.SZ            辉丰转债  002496.SZ           辉丰股份  2016-05-17   \n123  127003.SZ            海印转债  000861.SZ           海印股份  2016-07-01   \n\n    delist_date  first_conv_price  conv_price  highest_price  lowest_price  \\\n121  2019-02-20             19.00        6.02         131.98        99.910   \n122  2021-04-28             29.70        4.38         114.20        71.859   \n123  2022-06-08              5.26        2.99         134.80        81.991   \n\n    diff_date  \n121 1051 days  \n122 1807 days  \n123 2168 days  ",
      "text/html": "<div>\n<style scoped>\n    .dataframe tbody tr th:only-of-type {\n        vertical-align: middle;\n    }\n\n    .dataframe tbody tr th {\n        vertical-align: top;\n    }\n\n    .dataframe thead th {\n        text-align: right;\n    }\n</style>\n<table border=\"1\" class=\"dataframe\">\n  <thead>\n    <tr style=\"text-align: right;\">\n      <th></th>\n      <th>ts_code</th>\n      <th>bond_short_name</th>\n      <th>stk_code</th>\n      <th>stk_short_name</th>\n      <th>list_date</th>\n      <th>delist_date</th>\n      <th>first_conv_price</th>\n      <th>conv_price</th>\n      <th>highest_price</th>\n      <th>lowest_price</th>\n      <th>diff_date</th>\n    </tr>\n  </thead>\n  <tbody>\n    <tr>\n      <th>121</th>\n      <td>113010.SH</td>\n      <td>江南转债</td>\n      <td>601199.SH</td>\n      <td>江南水务</td>\n      <td>2016-04-05</td>\n      <td>2019-02-20</td>\n      <td>19.00</td>\n      <td>6.02</td>\n      <td>131.98</td>\n      <td>99.910</td>\n      <td>1051 days</td>\n    </tr>\n    <tr>\n      <th>122</th>\n      <td>128012.SZ</td>\n      <td>辉丰转债</td>\n      <td>002496.SZ</td>\n      <td>辉丰股份</td>\n      <td>2016-05-17</td>\n      <td>2021-04-28</td>\n      <td>29.70</td>\n      <td>4.38</td>\n      <td>114.20</td>\n      <td>71.859</td>\n      <td>1807 days</td>\n    </tr>\n    <tr>\n      <th>123</th>\n      <td>127003.SZ</td>\n      <td>海印转债</td>\n      <td>000861.SZ</td>\n      <td>海印股份</td>\n      <td>2016-07-01</td>\n      <td>2022-06-08</td>\n      <td>5.26</td>\n      <td>2.99</td>\n      <td>134.80</td>\n      <td>81.991</td>\n      <td>2168 days</td>\n    </tr>\n  </tbody>\n</table>\n</div>"
     },
     "execution_count": 99,
     "metadata": {},
     "output_type": "execute_result"
    }
   ],
   "source": [
    "bond_2016_2018_new[bond_2016_2018_new['highest_price'] < 135 ]"
   ],
   "metadata": {
    "collapsed": false,
    "pycharm": {
     "name": "#%%\n"
    }
   }
  }
 ],
 "metadata": {
  "kernelspec": {
   "display_name": "Python 3",
   "language": "python",
   "name": "python3"
  },
  "language_info": {
   "codemirror_mode": {
    "name": "ipython",
    "version": 2
   },
   "file_extension": ".py",
   "mimetype": "text/x-python",
   "name": "python",
   "nbconvert_exporter": "python",
   "pygments_lexer": "ipython2",
   "version": "2.7.6"
  }
 },
 "nbformat": 4,
 "nbformat_minor": 0
}